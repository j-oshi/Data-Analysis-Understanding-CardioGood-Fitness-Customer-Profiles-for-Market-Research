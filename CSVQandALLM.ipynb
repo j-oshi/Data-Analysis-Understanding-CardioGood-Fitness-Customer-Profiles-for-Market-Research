{
 "cells": [
  {
   "cell_type": "markdown",
   "metadata": {},
   "source": [
    "Load csv"
   ]
  },
  {
   "cell_type": "code",
   "execution_count": 1,
   "metadata": {},
   "outputs": [
    {
     "name": "stdout",
     "output_type": "stream",
     "text": [
      "(361, 5)\n",
      "['Period', 'Monthly_Payment', 'Computed_Interest_Due', 'Principal_Due', 'Principal_Balance']\n"
     ]
    }
   ],
   "source": [
    "import pandas as pd\n",
    "\n",
    "df = pd.read_csv('./data/mortgage-300h-360m-5r.csv')\n",
    "\n",
    "def rename_columns(df):\n",
    "    # Rename columns with spaces to underscores\n",
    "    df.columns = [col.replace(\" \", \"_\") if \" \" in col else col for col in df.columns]\n",
    "    return df\n",
    "\n",
    "# Rename columns in the DataFrame\n",
    "df = rename_columns(df)\n",
    "print(df.shape)\n",
    "print(df.columns.tolist())"
   ]
  },
  {
   "cell_type": "code",
   "execution_count": 2,
   "metadata": {},
   "outputs": [
    {
     "name": "stdout",
     "output_type": "stream",
     "text": [
      "Table 'mortgage' exists.\n"
     ]
    }
   ],
   "source": [
    "from langchain_community.utilities import SQLDatabase\n",
    "from sqlalchemy import create_engine, text\n",
    "\n",
    "# Create an engine to connect to the database\n",
    "engine = create_engine(\"sqlite:///mortgage.db\")\n",
    "\n",
    "# Function to check if table exists\n",
    "def check_table_exists(table_name):\n",
    "    with engine.connect() as connection:\n",
    "        result = connection.execute(text(f\"SELECT name FROM sqlite_master WHERE type='table' AND name='{table_name}';\"))\n",
    "        return result.fetchone() is not None\n",
    "\n",
    "# Check if the table 'mortgage' exists\n",
    "table_exists = check_table_exists('mortgage')\n",
    "\n",
    "if table_exists:\n",
    "    print(\"Table 'mortgage' exists.\")\n",
    "else:\n",
    "    print(\"Table 'mortgage' does not exist. Creating table...\")\n",
    "    # If the table doesn't exist, create it\n",
    "    df.to_sql(\"mortgage\", engine, index=False)\n",
    "\n",
    "\n"
   ]
  },
  {
   "cell_type": "code",
   "execution_count": 3,
   "metadata": {},
   "outputs": [
    {
     "name": "stdout",
     "output_type": "stream",
     "text": [
      "sqlite\n",
      "['mortgage']\n",
      "[(0, 0.0, 0.0, 0.0, 300000.0), (1, 1610.4648690364193, 1250.0, 360.46486903641926, 299639.5351309636), (2, 1610.4648690364193, 1248.4980630456705, 361.966805990749, 299277.5683249729)]\n"
     ]
    }
   ],
   "source": [
    "db = SQLDatabase(engine=engine)\n",
    "print(db.dialect)\n",
    "print(db.get_usable_table_names())\n",
    "print(db.run(\"SELECT * FROM mortgage WHERE Period < 3;\"))"
   ]
  },
  {
   "cell_type": "code",
   "execution_count": 4,
   "metadata": {},
   "outputs": [],
   "source": [
    "from langchain_ollama import ChatOllama\n",
    "\n",
    "# LLM from Ollama\n",
    "local_model = \"mistral:latest\"\n",
    "llm = ChatOllama(model=local_model, temperature=0)"
   ]
  },
  {
   "cell_type": "code",
   "execution_count": 5,
   "metadata": {},
   "outputs": [],
   "source": [
    "from langchain_community.agent_toolkits import SQLDatabaseToolkit\n",
    "from langchain_community.agent_toolkits import create_sql_agent\n",
    "from langchain_core.messages import HumanMessage\n",
    "\n",
    "toolkit = SQLDatabaseToolkit(db=db, llm=llm) \n",
    "agent_executor = create_sql_agent(llm, toolkit=toolkit, agent_type=\"tool-calling\")"
   ]
  },
  {
   "cell_type": "code",
   "execution_count": 6,
   "metadata": {},
   "outputs": [],
   "source": [
    "# agent_executor.invoke({\"input\": \"List tables in database\"})"
   ]
  },
  {
   "cell_type": "code",
   "execution_count": 7,
   "metadata": {},
   "outputs": [
    {
     "name": "stderr",
     "output_type": "stream",
     "text": [
      "c:\\Users\\JTOSH\\Documents\\python_project\\Data-Analysis\\daenv\\Lib\\site-packages\\langsmith\\client.py:261: LangSmithMissingAPIKeyWarning: API key must be provided when using hosted LangSmith API\n",
      "  warnings.warn(\n"
     ]
    },
    {
     "name": "stdout",
     "output_type": "stream",
     "text": [
      "================================\u001b[1m System Message \u001b[0m================================\n",
      "\n",
      "Given an input question, create a syntactically correct \u001b[33;1m\u001b[1;3m{dialect}\u001b[0m query to run to help find the answer. Unless the user specifies in his question a specific number of examples they wish to obtain, always limit your query to at most \u001b[33;1m\u001b[1;3m{top_k}\u001b[0m results. You can order the results by a relevant column to return the most interesting examples in the database.\n",
      "\n",
      "Never query for all the columns from a specific table, only ask for a the few relevant columns given the question.\n",
      "\n",
      "Pay attention to use only the column names that you can see in the schema description. Be careful to not query for columns that do not exist. Also, pay attention to which column is in which table.\n",
      "\n",
      "Only use the following tables:\n",
      "\u001b[33;1m\u001b[1;3m{table_info}\u001b[0m\n",
      "\n",
      "Question: \u001b[33;1m\u001b[1;3m{input}\u001b[0m\n"
     ]
    }
   ],
   "source": [
    "from langchain import hub\n",
    "\n",
    "# Get from https://smith.langchain.com/hub\n",
    "query_prompt_template = hub.pull(\"langchain-ai/sql-query-system-prompt\")\n",
    "\n",
    "assert len(query_prompt_template.messages) == 1\n",
    "query_prompt_template.messages[0].pretty_print()"
   ]
  },
  {
   "cell_type": "code",
   "execution_count": 10,
   "metadata": {},
   "outputs": [
    {
     "name": "stdout",
     "output_type": "stream",
     "text": [
      "{'question': 'What are the top 5 most recent mortgage payments?'}\n",
      "{'query': 'SELECT Period, Monthly_Payment FROM mortgage ORDER BY Period DESC LIMIT 5'}\n"
     ]
    }
   ],
   "source": [
    "from typing_extensions import Annotated, TypedDict\n",
    "from typing import Optional, TypedDict\n",
    "from pydantic import BaseModel, Field\n",
    "from langchain_community.utilities import SQLDatabase\n",
    "from sqlalchemy import create_engine\n",
    "\n",
    "# Initialize the database connection\n",
    "engine = create_engine(\"sqlite:///mortgage.db\")\n",
    "db = SQLDatabase(engine)\n",
    "\n",
    "class State(TypedDict):\n",
    "    question: str\n",
    "    query: str\n",
    "    result: str\n",
    "    answer: str\n",
    "\n",
    "class QueryOutput(TypedDict):\n",
    "    \"\"\"Generated SQL query.\"\"\"\n",
    "\n",
    "    query: Annotated[str, ..., \"Syntactically valid SQL query.\"]\n",
    "\n",
    "def write_query(state: State):\n",
    "    \"\"\"Generate SQL query to fetch information.\"\"\"\n",
    "    print(state)\n",
    "\n",
    "    # Generate the SQL query using the template\n",
    "    prompt = \"\"\"\n",
    "    ================================ System Message ================================\n",
    "    Given an input question, create a syntactically correct {dialect} query to run to help find the answer. Unless the user specifies in his question a specific number of examples they wish to obtain, always limit your query to at most {top_k} results. You can order the results by a relevant column to return the most interesting examples in the database.\n",
    "\n",
    "    Never query for all the columns from a specific table, only ask for a few relevant columns given the question.\n",
    "\n",
    "    Pay attention to use only the column names that you can see in the schema description. Be careful to not query for columns that do not exist. Also, pay attention to which column is in which table.\n",
    "\n",
    "    Only use the following tables:\n",
    "    {table_info}\n",
    "\n",
    "    Question: {input}\n",
    "    \"\"\".format(\n",
    "        dialect=db.dialect,\n",
    "        top_k=10,\n",
    "        table_info=db.get_table_info(),\n",
    "        input=state[\"question\"]\n",
    "    )\n",
    "\n",
    "    structured_llm = llm.with_structured_output(QueryOutput)\n",
    "    result = structured_llm.invoke(prompt)\n",
    "    return result\n",
    "\n",
    "# Example usage\n",
    "state = {\n",
    "    \"question\": \"What are the top 5 most recent mortgage payments?\"\n",
    "}\n",
    "\n",
    "query_result = write_query(state)\n",
    "print(query_result)\n"
   ]
  },
  {
   "cell_type": "code",
   "execution_count": 11,
   "metadata": {},
   "outputs": [],
   "source": [
    "from langchain_community.tools.sql_database.tool import QuerySQLDatabaseTool\n",
    "\n",
    "def execute_query(state: State):\n",
    "    \"\"\"Execute SQL query.\"\"\"\n",
    "    execute_query_tool = QuerySQLDatabaseTool(db=db)\n",
    "    return {\"result\": execute_query_tool.invoke(state[\"query\"])}"
   ]
  },
  {
   "cell_type": "code",
   "execution_count": 12,
   "metadata": {},
   "outputs": [
    {
     "data": {
      "text/plain": [
       "{'result': '[(360, 1610.4648690364193), (359, 1610.4648690364193), (358, 1610.4648690364193), (357, 1610.4648690364193), (356, 1610.4648690364193)]'}"
      ]
     },
     "execution_count": 12,
     "metadata": {},
     "output_type": "execute_result"
    }
   ],
   "source": [
    "ex_result = execute_query(query_result)\n",
    "ex_result"
   ]
  },
  {
   "cell_type": "code",
   "execution_count": 13,
   "metadata": {},
   "outputs": [],
   "source": [
    "def generate_answer(state: State):\n",
    "    \"\"\"Answer question using retrieved information as context.\"\"\"\n",
    "    prompt = (\n",
    "        \"Given the following user question, corresponding SQL query, \"\n",
    "        \"and SQL result, answer the user question.\\n\\n\"\n",
    "        f'Question: {state[\"question\"]}\\n'\n",
    "        f'SQL Query: {state[\"query\"]}\\n'\n",
    "        f'SQL Result: {state[\"result\"]}'\n",
    "    )\n",
    "    response = llm.invoke(prompt)\n",
    "    return {\"answer\": response.content}"
   ]
  },
  {
   "cell_type": "code",
   "execution_count": 14,
   "metadata": {},
   "outputs": [],
   "source": [
    "from langgraph.graph import START, StateGraph\n",
    "\n",
    "graph_builder = StateGraph(State).add_sequence(\n",
    "    [write_query, execute_query, generate_answer]\n",
    ")\n",
    "graph_builder.add_edge(START, \"write_query\")\n",
    "graph = graph_builder.compile()"
   ]
  },
  {
   "cell_type": "code",
   "execution_count": 15,
   "metadata": {},
   "outputs": [
    {
     "name": "stdout",
     "output_type": "stream",
     "text": [
      "{'question': 'What are the top 5 most recent mortgage payments?'}\n",
      "{'write_query': {'query': 'SELECT Period, Monthly_Payment FROM mortgage ORDER BY Period DESC LIMIT 5'}}\n",
      "{'execute_query': {'result': '[(360, 1610.4648690364193), (359, 1610.4648690364193), (358, 1610.4648690364193), (357, 1610.4648690364193), (356, 1610.4648690364193)]'}}\n",
      "{'generate_answer': {'answer': ' Based on the SQL result provided, the top 5 most recent mortgage payments are as follows:\\n\\n1. Period 360 with a Monthly Payment of $1610.46\\n2. Period 359 with a Monthly Payment of $1610.46\\n3. Period 358 with a Monthly Payment of $1610.46\\n4. Period 357 with a Monthly Payment of $1610.46\\n5. Period 356 with a Monthly Payment of $1610.46\\n\\nEach payment has the same amount of $1610.46, but they are ordered by their respective periods in descending order (most recent first).'}}\n"
     ]
    }
   ],
   "source": [
    "for step in graph.stream(\n",
    "    {\"question\": \"What are the top 5 most recent mortgage payments?\"}, stream_mode=\"updates\"\n",
    "):\n",
    "    print(step)"
   ]
  },
  {
   "cell_type": "code",
   "execution_count": 16,
   "metadata": {},
   "outputs": [
    {
     "name": "stdout",
     "output_type": "stream",
     "text": [
      "{'question': 'What is the total monthly payment?'}\n",
      "{'write_query': {'query': 'SELECT SUM(Monthly_Payment) FROM mortgage;'}}\n",
      "{'execute_query': {'result': '[(579767.352853111,)]'}}\n",
      "{'generate_answer': {'answer': ' The total monthly payment is 579767.35.'}}\n"
     ]
    }
   ],
   "source": [
    "for step in graph.stream(\n",
    "    {\"question\": \"What is the total monthly payment?\"}, stream_mode=\"updates\"\n",
    "):\n",
    "    print(step)"
   ]
  }
 ],
 "metadata": {
  "kernelspec": {
   "display_name": "daenv",
   "language": "python",
   "name": "python3"
  },
  "language_info": {
   "codemirror_mode": {
    "name": "ipython",
    "version": 3
   },
   "file_extension": ".py",
   "mimetype": "text/x-python",
   "name": "python",
   "nbconvert_exporter": "python",
   "pygments_lexer": "ipython3",
   "version": "3.13.1"
  }
 },
 "nbformat": 4,
 "nbformat_minor": 2
}
