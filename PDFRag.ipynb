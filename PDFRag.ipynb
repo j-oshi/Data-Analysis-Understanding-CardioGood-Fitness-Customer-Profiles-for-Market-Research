{
 "cells": [
  {
   "cell_type": "markdown",
   "metadata": {},
   "source": [
    "<h1>PDF RAG</h1>"
   ]
  },
  {
   "cell_type": "code",
   "execution_count": 1,
   "metadata": {},
   "outputs": [
    {
     "name": "stdout",
     "output_type": "stream",
     "text": [
      "Package                                  Version\n",
      "---------------------------------------- --------------\n",
      "aiohappyeyeballs                         2.4.4\n",
      "aiohttp                                  3.11.10\n",
      "aiosignal                                1.3.2\n",
      "altair                                   5.5.0\n",
      "annotated-types                          0.7.0\n",
      "anyio                                    4.7.0\n",
      "argon2-cffi                              23.1.0\n",
      "argon2-cffi-bindings                     21.2.0\n",
      "arrow                                    1.3.0\n",
      "asgiref                                  3.8.1\n",
      "asttokens                                3.0.0\n",
      "async-lru                                2.0.4\n",
      "attrs                                    24.3.0\n",
      "babel                                    2.16.0\n",
      "backoff                                  2.2.1\n",
      "bcrypt                                   4.2.1\n",
      "beautifulsoup4                           4.12.3\n",
      "bleach                                   6.2.0\n",
      "blinker                                  1.9.0\n",
      "branca                                   0.8.1\n",
      "build                                    1.2.2.post1\n",
      "cachetools                               5.5.0\n",
      "certifi                                  2024.12.14\n",
      "cffi                                     1.17.1\n",
      "charset-normalizer                       3.4.0\n",
      "chroma-hnswlib                           0.7.6\n",
      "chromadb                                 0.5.23\n",
      "click                                    8.1.7\n",
      "colorama                                 0.4.6\n",
      "coloredlogs                              15.0.1\n",
      "comm                                     0.2.2\n",
      "contourpy                                1.3.1\n",
      "cycler                                   0.12.1\n",
      "dataclasses-json                         0.6.7\n",
      "debugpy                                  1.8.11\n",
      "decorator                                5.1.1\n",
      "defusedxml                               0.7.1\n",
      "Deprecated                               1.2.15\n",
      "durationpy                               0.9\n",
      "executing                                2.1.0\n",
      "fastapi                                  0.115.6\n",
      "fastjsonschema                           2.21.1\n",
      "filelock                                 3.16.1\n",
      "flatbuffers                              24.3.25\n",
      "folium                                   0.19.2\n",
      "fonttools                                4.55.3\n",
      "fqdn                                     1.5.1\n",
      "frozenlist                               1.5.0\n",
      "fsspec                                   2024.10.0\n",
      "geographiclib                            2.0\n",
      "geopandas                                1.0.1\n",
      "geopy                                    2.4.1\n",
      "gitdb                                    4.0.11\n",
      "GitPython                                3.1.43\n",
      "google-auth                              2.37.0\n",
      "googleapis-common-protos                 1.66.0\n",
      "grpcio                                   1.68.1\n",
      "h11                                      0.14.0\n",
      "httpcore                                 1.0.7\n",
      "httptools                                0.6.4\n",
      "httpx                                    0.27.2\n",
      "httpx-sse                                0.4.0\n",
      "huggingface-hub                          0.27.0\n",
      "humanfriendly                            10.0\n",
      "idna                                     3.10\n",
      "importlib_metadata                       8.5.0\n",
      "importlib_resources                      6.4.5\n",
      "ipykernel                                6.29.5\n",
      "ipython                                  8.30.0\n",
      "isoduration                              20.11.0\n",
      "jedi                                     0.19.2\n",
      "Jinja2                                   3.1.4\n",
      "joblib                                   1.4.2\n",
      "json5                                    0.10.0\n",
      "jsonpatch                                1.33\n",
      "jsonpointer                              3.0.0\n",
      "jsonschema                               4.23.0\n",
      "jsonschema-specifications                2024.10.1\n",
      "jupyter_client                           8.6.3\n",
      "jupyter_core                             5.7.2\n",
      "jupyter-events                           0.11.0\n",
      "jupyter-lsp                              2.2.5\n",
      "jupyter_server                           2.14.2\n",
      "jupyter_server_terminals                 0.5.3\n",
      "jupyterlab                               4.3.3\n",
      "jupyterlab_pygments                      0.3.0\n",
      "jupyterlab_server                        2.27.3\n",
      "kiwisolver                               1.4.7\n",
      "kubernetes                               31.0.0\n",
      "langchain                                0.3.12\n",
      "langchain-community                      0.3.12\n",
      "langchain-core                           0.3.25\n",
      "langchain-ollama                         0.2.1\n",
      "langchain-text-splitters                 0.3.3\n",
      "langsmith                                0.2.3\n",
      "markdown-it-py                           3.0.0\n",
      "MarkupSafe                               3.0.2\n",
      "marshmallow                              3.23.1\n",
      "matplotlib                               3.10.0\n",
      "matplotlib-inline                        0.1.7\n",
      "mdurl                                    0.1.2\n",
      "mistune                                  3.0.2\n",
      "mmh3                                     5.0.1\n",
      "monotonic                                1.6\n",
      "mpmath                                   1.3.0\n",
      "multidict                                6.1.0\n",
      "mypy-extensions                          1.0.0\n",
      "narwhals                                 1.18.4\n",
      "nbclient                                 0.10.1\n",
      "nbconvert                                7.16.4\n",
      "nbformat                                 5.10.4\n",
      "nest-asyncio                             1.6.0\n",
      "notebook_shim                            0.2.4\n",
      "numpy                                    2.2.0\n",
      "oauthlib                                 3.2.2\n",
      "ollama                                   0.4.4\n",
      "onnxruntime                              1.20.1\n",
      "opentelemetry-api                        1.29.0\n",
      "opentelemetry-exporter-otlp-proto-common 1.29.0\n",
      "opentelemetry-exporter-otlp-proto-grpc   1.29.0\n",
      "opentelemetry-instrumentation            0.50b0\n",
      "opentelemetry-instrumentation-asgi       0.50b0\n",
      "opentelemetry-instrumentation-fastapi    0.50b0\n",
      "opentelemetry-proto                      1.29.0\n",
      "opentelemetry-sdk                        1.29.0\n",
      "opentelemetry-semantic-conventions       0.50b0\n",
      "opentelemetry-util-http                  0.50b0\n",
      "orjson                                   3.10.12\n",
      "overrides                                7.7.0\n",
      "packaging                                24.2\n",
      "pandas                                   2.2.3\n",
      "pandocfilters                            1.5.1\n",
      "parso                                    0.8.4\n",
      "pillow                                   11.0.0\n",
      "pip                                      24.3.1\n",
      "platformdirs                             4.3.6\n",
      "posthog                                  3.7.4\n",
      "prometheus_client                        0.21.1\n",
      "prompt_toolkit                           3.0.48\n",
      "propcache                                0.2.1\n",
      "protobuf                                 5.29.1\n",
      "psutil                                   6.1.0\n",
      "pure_eval                                0.2.3\n",
      "pyarrow                                  18.1.0\n",
      "pyasn1                                   0.6.1\n",
      "pyasn1_modules                           0.4.1\n",
      "pycparser                                2.22\n",
      "pydantic                                 2.10.3\n",
      "pydantic_core                            2.27.1\n",
      "pydantic-settings                        2.7.0\n",
      "pydeck                                   0.9.1\n",
      "Pygments                                 2.18.0\n",
      "PyMuPDF                                  1.25.1\n",
      "pyogrio                                  0.10.0\n",
      "pyparsing                                3.2.0\n",
      "PyPika                                   0.48.9\n",
      "pyproj                                   3.7.0\n",
      "pyproject_hooks                          1.2.0\n",
      "pyreadline3                              3.5.4\n",
      "python-dateutil                          2.9.0.post0\n",
      "python-dotenv                            1.0.1\n",
      "python-json-logger                       3.2.1\n",
      "pytz                                     2024.2\n",
      "pywin32                                  308\n",
      "pywinpty                                 2.0.14\n",
      "PyYAML                                   6.0.2\n",
      "pyzmq                                    26.2.0\n",
      "referencing                              0.35.1\n",
      "requests                                 2.32.3\n",
      "requests-oauthlib                        2.0.0\n",
      "requests-toolbelt                        1.0.0\n",
      "rfc3339-validator                        0.1.4\n",
      "rfc3986-validator                        0.1.1\n",
      "rich                                     13.9.4\n",
      "rpds-py                                  0.22.3\n",
      "rsa                                      4.9\n",
      "scikit-learn                             1.6.0\n",
      "scipy                                    1.14.1\n",
      "seaborn                                  0.13.2\n",
      "Send2Trash                               1.8.3\n",
      "setuptools                               75.6.0\n",
      "shapely                                  2.0.6\n",
      "shellingham                              1.5.4\n",
      "six                                      1.17.0\n",
      "smmap                                    5.0.1\n",
      "sniffio                                  1.3.1\n",
      "soupsieve                                2.6\n",
      "SQLAlchemy                               2.0.36\n",
      "stack-data                               0.6.3\n",
      "starlette                                0.41.3\n",
      "streamlit                                1.41.1\n",
      "sympy                                    1.13.3\n",
      "tenacity                                 9.0.0\n",
      "terminado                                0.18.1\n",
      "threadpoolctl                            3.5.0\n",
      "tinycss2                                 1.4.0\n",
      "tokenizers                               0.20.3\n",
      "toml                                     0.10.2\n",
      "tornado                                  6.4.2\n",
      "tqdm                                     4.67.1\n",
      "traitlets                                5.14.3\n",
      "typer                                    0.15.1\n",
      "types-python-dateutil                    2.9.0.20241206\n",
      "typing_extensions                        4.12.2\n",
      "typing-inspect                           0.9.0\n",
      "tzdata                                   2024.2\n",
      "uri-template                             1.3.0\n",
      "urllib3                                  2.2.3\n",
      "uvicorn                                  0.34.0\n",
      "watchdog                                 6.0.0\n",
      "watchfiles                               1.0.3\n",
      "wcwidth                                  0.2.13\n",
      "webcolors                                24.11.1\n",
      "webencodings                             0.5.1\n",
      "websocket-client                         1.8.0\n",
      "websockets                               14.1\n",
      "wrapt                                    1.17.0\n",
      "xyzservices                              2024.9.0\n",
      "yarl                                     1.18.3\n",
      "zipp                                     3.21.0\n"
     ]
    }
   ],
   "source": [
    "!pip list"
   ]
  },
  {
   "cell_type": "markdown",
   "metadata": {},
   "source": [
    "Import Libraries"
   ]
  },
  {
   "cell_type": "code",
   "execution_count": 2,
   "metadata": {},
   "outputs": [],
   "source": [
    "import os, sys\n",
    "import pymupdf\n",
    "from langchain_community.document_loaders import UnstructuredPDFLoader\n",
    "from langchain_community.vectorstores import Chroma\n",
    "from langchain_text_splitters import RecursiveCharacterTextSplitter\n",
    "from langchain_ollama import OllamaEmbeddings\n",
    "from langchain_ollama import ChatOllama\n",
    "from langchain.schema import Document\n",
    "from langchain.prompts import ChatPromptTemplate, PromptTemplate\n",
    "from langchain.retrievers.multi_query import MultiQueryRetriever\n",
    "from langchain_core.output_parsers import StrOutputParser\n",
    "from langchain_core.runnables import RunnablePassthrough\n",
    "\n",
    "\n",
    "from IPython.display import display as Markdown\n",
    "\n",
    "# Set directory paths\n",
    "parent_dir = os.path.abspath(\"..\")\n",
    "if parent_dir not in sys.path:\n",
    "    sys.path.append(parent_dir)"
   ]
  },
  {
   "cell_type": "markdown",
   "metadata": {},
   "source": [
    "<h2>Load PDF</h2>"
   ]
  },
  {
   "cell_type": "code",
   "execution_count": 3,
   "metadata": {},
   "outputs": [
    {
     "name": "stdout",
     "output_type": "stream",
     "text": [
      "PDF loaded successfully! Extracted text:\n",
      "Search...\n",
      " Search results\n",
      "ome\n",
      ">\n",
      "Information Technology\n",
      ">\n",
      "Developer\n",
      ">\n",
      "Fullstack Developer\n",
      "> Job details\n",
      "Apply now\n",
      "Register and upload your CV to apply with just one click\n",
      "View all jobs\n",
      "Senior Full Stack Developer\n",
      "Featured\n",
      "Senior Full Stack Developer\n",
      "Posted 3 days ago by Kensington Mortgage Company\n",
      "Work from home\n",
      "Salary\n",
      "negotiable\n",
      "London, South East\n",
      "England\n",
      "Permanent,\n",
      "full-time\n",
      "Register CV\n",
      "Sign in\n",
      "Saved jobs\n",
      "Senior Full Stack Developer in London - Reed.co.uk\n",
      "https://www.reed.co.uk/jobs/senior-full...\n"
     ]
    }
   ],
   "source": [
    "# file_name = 'developer_job.pdf'\n",
    "# folder_path = 'data'\n",
    "# file_path = parent_dir + os.sep + folder_path + os.sep + file_name\n",
    "\n",
    "# # PDF file uploads\n",
    "# if file_path:\n",
    "#   loader = UnstructuredPDFLoader(file_path) #Wheel issue with 3.13\n",
    "#   docs = loader.load()\n",
    "# else:\n",
    "#   print(\"Upload a PDF file\")\n",
    "\n",
    "file_name = 'developer_job.pdf'\n",
    "folder_path = 'data'\n",
    "file_path = os.path.join(os.getcwd(), folder_path, file_name)\n",
    "\n",
    "def load_pdf_with_pymupdf(file_path):\n",
    "    \"\"\"\n",
    "    Load text from a PDF file using PyMuPDF (fitz).\n",
    "    Returns the extracted text as a string.\n",
    "    \"\"\"\n",
    "    try:\n",
    "        doc = pymupdf.open(file_path)\n",
    "        text = \"\"\n",
    "        for page in doc:\n",
    "            text += page.get_text()\n",
    "        doc.close()\n",
    "        return text\n",
    "    except Exception as e:\n",
    "        print(f\"Error loading PDF: {e}\")\n",
    "        return None\n",
    "    \n",
    "# PDF file uploads\n",
    "if os.path.exists(file_path):\n",
    "    pdf_text = load_pdf_with_pymupdf(file_path)\n",
    "    if pdf_text:\n",
    "        print(f\"PDF loaded successfully! Extracted text:\\n{pdf_text[:500]}...\")  \n",
    "    else:\n",
    "        print(\"Failed to extract text.\")\n",
    "else:\n",
    "    print(\"Upload a valid PDF file.\")\n"
   ]
  },
  {
   "cell_type": "markdown",
   "metadata": {},
   "source": [
    "List of local LLMS for Ollama"
   ]
  },
  {
   "cell_type": "code",
   "execution_count": 4,
   "metadata": {},
   "outputs": [
    {
     "name": "stdout",
     "output_type": "stream",
     "text": [
      "NAME                ID              SIZE      MODIFIED   \n",
      "mistral:latest      f974a74358d6    4.1 GB    3 days ago    \n",
      "tinyllama:latest    2644915ede35    637 MB    5 days ago    \n"
     ]
    }
   ],
   "source": [
    "!ollama list"
   ]
  },
  {
   "cell_type": "code",
   "execution_count": 5,
   "metadata": {},
   "outputs": [],
   "source": [
    "# Split and chunk \n",
    "documents = [Document(page_content=pdf_text, metadata={})]\n",
    "text_splitter = RecursiveCharacterTextSplitter(chunk_size=7500, chunk_overlap=100)\n",
    "chunks = text_splitter.split_documents(documents)"
   ]
  },
  {
   "cell_type": "code",
   "execution_count": 6,
   "metadata": {},
   "outputs": [],
   "source": [
    "# Create vector database\n",
    "vector_db = Chroma.from_documents(\n",
    "    documents=chunks,\n",
    "    embedding=OllamaEmbeddings(model=\"mistral:latest\"),\n",
    "    collection_name=\"local-rag\"\n",
    ")"
   ]
  },
  {
   "cell_type": "code",
   "execution_count": 12,
   "metadata": {},
   "outputs": [],
   "source": [
    "# LLM from Ollama\n",
    "local_model = \"mistral:latest\"\n",
    "llm = ChatOllama(model=local_model)"
   ]
  },
  {
   "cell_type": "code",
   "execution_count": 13,
   "metadata": {},
   "outputs": [],
   "source": [
    "QUERY_PROMPT = PromptTemplate(\n",
    "    input_variables=[\"question\"],\n",
    "    template=\"\"\"You are an AI language model assistant. Your task is to generate five question-answering variations of the given user question to retrieve relevant documents from a vector database. By framing the query as potential answers to a question, your goal is to identify documents that directly address the user's information need. Provide these alternative questions separated by newlines.\n",
    "    Original question: {question}\"\"\",\n",
    ")"
   ]
  },
  {
   "cell_type": "code",
   "execution_count": 14,
   "metadata": {},
   "outputs": [],
   "source": [
    "retriever = MultiQueryRetriever.from_llm(\n",
    "    vector_db.as_retriever(), \n",
    "    llm,\n",
    "    prompt=QUERY_PROMPT\n",
    ")\n",
    "\n",
    "# RAG prompt\n",
    "template = \"\"\"Answer the question based ONLY on the following context:\n",
    "{context}\n",
    "Question: {question}\n",
    "\"\"\"\n",
    "\n",
    "prompt = ChatPromptTemplate.from_template(template)"
   ]
  },
  {
   "cell_type": "code",
   "execution_count": 15,
   "metadata": {},
   "outputs": [],
   "source": [
    "chain = (\n",
    "    {\"context\": retriever, \"question\": RunnablePassthrough()}\n",
    "    | prompt\n",
    "    | llm\n",
    "    | StrOutputParser()\n",
    ")"
   ]
  },
  {
   "cell_type": "code",
   "execution_count": 16,
   "metadata": {},
   "outputs": [
    {
     "name": "stderr",
     "output_type": "stream",
     "text": [
      "Number of requested results 4 is greater than number of elements in index 2, updating n_results = 2\n",
      "Number of requested results 4 is greater than number of elements in index 2, updating n_results = 2\n",
      "Number of requested results 4 is greater than number of elements in index 2, updating n_results = 2\n",
      "Number of requested results 4 is greater than number of elements in index 2, updating n_results = 2\n",
      "Number of requested results 4 is greater than number of elements in index 2, updating n_results = 2\n"
     ]
    },
    {
     "data": {
      "text/plain": [
       "'1. C#\\n   2. Python\\n   3. Azure\\n   4. Cloud technology\\n   5. Senior developer\\n   6. Full stack'"
      ]
     },
     "execution_count": 16,
     "metadata": {},
     "output_type": "execute_result"
    }
   ],
   "source": [
    "chain.invoke(\"What are the skills needed for the job?\")"
   ]
  },
  {
   "cell_type": "code",
   "execution_count": 12,
   "metadata": {},
   "outputs": [
    {
     "name": "stderr",
     "output_type": "stream",
     "text": [
      "Number of requested results 4 is greater than number of elements in index 2, updating n_results = 2\n",
      "Number of requested results 4 is greater than number of elements in index 2, updating n_results = 2\n",
      "Number of requested results 4 is greater than number of elements in index 2, updating n_results = 2\n",
      "Number of requested results 4 is greater than number of elements in index 2, updating n_results = 2\n",
      "Number of requested results 4 is greater than number of elements in index 2, updating n_results = 2\n"
     ]
    },
    {
     "data": {
      "text/plain": [
       "' The job listing does not specify a minimum number of years of experience required. However, it is indicated that the applicant should have a strong background in software development and experience developing C# models.'"
      ]
     },
     "execution_count": 12,
     "metadata": {},
     "output_type": "execute_result"
    }
   ],
   "source": [
    "chain.invoke(\"What is the least amount of year experience needed for the job role?\")"
   ]
  }
 ],
 "metadata": {
  "kernelspec": {
   "display_name": "daenv",
   "language": "python",
   "name": "python3"
  },
  "language_info": {
   "codemirror_mode": {
    "name": "ipython",
    "version": 3
   },
   "file_extension": ".py",
   "mimetype": "text/x-python",
   "name": "python",
   "nbconvert_exporter": "python",
   "pygments_lexer": "ipython3",
   "version": "3.13.1"
  }
 },
 "nbformat": 4,
 "nbformat_minor": 2
}
